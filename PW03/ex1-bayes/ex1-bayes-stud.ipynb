{
 "cells": [
  {
   "cell_type": "markdown",
   "metadata": {
    "collapsed": true
   },
   "source": [
    "## Exercise 1 - Bayes classification system"
   ]
  },
  {
   "cell_type": "code",
   "execution_count": 45,
   "metadata": {},
   "outputs": [],
   "source": [
    "# Import some useful libraries\n",
    "import math\n",
    "\n",
    "import matplotlib.pyplot as plt\n",
    "import numpy as np\n",
    "import pandas as pd\n",
    "from sklearn.model_selection import train_test_split\n",
    "from sklearn.preprocessing import OrdinalEncoder, StandardScaler"
   ]
  },
  {
   "cell_type": "markdown",
   "metadata": {},
   "source": [
    "## 1a. Getting started with Bayes"
   ]
  },
  {
   "cell_type": "markdown",
   "metadata": {},
   "source": [
    "a) Read the training data from file ex1-data-train.csv. The first two columns are x1 and x2. The last column holds the class label y."
   ]
  },
  {
   "cell_type": "code",
   "execution_count": 46,
   "metadata": {
    "pycharm": {
     "is_executing": false
    }
   },
   "outputs": [],
   "source": [
    "def read_data(file):\n",
    "    dataset = pd.read_csv(file, names=['x1','x2','y'])\n",
    "    print(dataset.head())\n",
    "    return dataset[[\"x1\", \"x2\"]], dataset[\"y\"].values"
   ]
  },
  {
   "cell_type": "code",
   "execution_count": 47,
   "metadata": {},
   "outputs": [
    {
     "name": "stdout",
     "output_type": "stream",
     "text": [
      "          x1         x2  y\n",
      "0  34.623660  78.024693  0\n",
      "1  30.286711  43.894998  0\n",
      "2  35.847409  72.902198  0\n",
      "3  60.182599  86.308552  1\n",
      "4  79.032736  75.344376  1\n"
     ]
    }
   ],
   "source": [
    "X_train, y_train = read_data(\"ex1-data-train.csv\")"
   ]
  },
  {
   "cell_type": "code",
   "execution_count": 48,
   "metadata": {},
   "outputs": [],
   "source": [
    "# Prepare a function to compute accuracy\n",
    "def accuracy_score(y_true, y_pred):\n",
    "    return (y_true == y_pred).sum() / y_true.size"
   ]
  },
  {
   "cell_type": "markdown",
   "metadata": {},
   "source": [
    "b) Compute the priors of both classes P(C0) and P(C1)"
   ]
  },
  {
   "cell_type": "code",
   "execution_count": 49,
   "metadata": {
    "pycharm": {
     "is_executing": false
    }
   },
   "outputs": [
    {
     "name": "stdout",
     "output_type": "stream",
     "text": [
      "P(C0) =  0.4\n",
      "P(C1) =  0.6\n"
     ]
    }
   ],
   "source": [
    "# TODO: Compute the priors\n",
    "p_c0 = np.sum(y_train == 0) / y_train.size\n",
    "p_c1 = np.sum(y_train == 1) / y_train.size\n",
    "\n",
    "print(\"P(C0) = \", p_c0)\n",
    "print(\"P(C1) = \", p_c1)"
   ]
  },
  {
   "cell_type": "markdown",
   "metadata": {},
   "source": [
    "c) Compute histograms of x1 and x2 for each class (total of 4 histograms). Plot these histograms. Advice : use the numpy `histogram(a, bins=\"auto\")` function."
   ]
  },
  {
   "cell_type": "code",
   "execution_count": 50,
   "metadata": {
    "pycharm": {
     "is_executing": false
    }
   },
   "outputs": [
    {
     "data": {
      "image/png": "[encoded data removed]",
      "text/plain": [
       "<Figure size 1600x600 with 4 Axes>"
      ]
     },
     "metadata": {},
     "output_type": "display_data"
    }
   ],
   "source": [
    "# TODO: Compute histograms from X_train for each class\n",
    "histograms = [\n",
    "    np.histogram(X_train[y_train == 0][\"x1\"], bins='auto'),\n",
    "    np.histogram(X_train[y_train == 1][\"x1\"], bins='auto'),\n",
    "    np.histogram(X_train[y_train == 0][\"x2\"], bins='auto'),\n",
    "    np.histogram(X_train[y_train == 1][\"x2\"], bins='auto')\n",
    "]\n",
    "\n",
    "# TODO: plot all histograms\n",
    "plt.figure(figsize=(16,6))\n",
    "\n",
    "for i, (hist, bins) in enumerate(histograms):\n",
    "    plt.subplot(1, 4, i + 1)\n",
    "    plt.bar(bins[:-1], hist, width = bins[1] - bins[0])\n",
    "    plt.title(f'X{i // 2 + 1}, Y={i % 2}')\n",
    "\n",
    "plt.show()"
   ]
  },
  {
   "cell_type": "markdown",
   "metadata": {},
   "source": [
    "d) Use the histograms to compute the likelihoods p(x1|C0), p(x1|C1), p(x2|C0) and p(x2|C1). For this define a function `likelihood_hist(x, hist_values, edge_values)` that returns the likelihood of x for a given histogram (defined by its values and bin edges as returned by the numpy `histogram()` function)."
   ]
  },
  {
   "cell_type": "code",
   "execution_count": 51,
   "metadata": {
    "pycharm": {
     "is_executing": false
    }
   },
   "outputs": [],
   "source": [
    "def likelihood_hist(x: float, hist_values: np.ndarray, bin_edges: np.ndarray) -> float:\n",
    "   \"\"\"\n",
    "   Compute the likelihood of a value given a histogram\n",
    "   :param x: the value\n",
    "   :param hist_values: the values of the histogram\n",
    "   :param bin_edges: the bin edges of the histogram\n",
    "\n",
    "   :return: the likelihood of the value given the histogram\n",
    "   \"\"\"\n",
    "      # compute the bin width (assume uniform bins)\n",
    "   bin_width = bin_edges[1] - bin_edges[0]\n",
    "   # compute the bin index of the value x\n",
    "   bin_index = np.digitize(x, bin_edges) - 1\n",
    "   # compute the sum of all histogram values considering the bin width\n",
    "   total = 0\n",
    "   for i in range(len(hist_values)):\n",
    "      total += hist_values[i] * bin_width\n",
    "   # return the probability of the bin\n",
    "   return hist_values[bin_index] * bin_width / total"
   ]
  },
  {
   "cell_type": "markdown",
   "metadata": {},
   "source": [
    "e) Implement the classification decision according to Bayes rule and compute the overall accuracy of the system on the test set ex1-data-test.csv. :\n",
    "- using only feature x1\n",
    "- using only feature x2\n",
    "- using x1 and x2 making the naive Bayes hypothesis of feature independence, i.e. p(X|Ck) = p(x1|Ck) · p(x2|Ck)"
   ]
  },
  {
   "cell_type": "code",
   "execution_count": 52,
   "metadata": {
    "pycharm": {
     "is_executing": false
    }
   },
   "outputs": [
    {
     "name": "stdout",
     "output_type": "stream",
     "text": [
      "          x1         x2  y\n",
      "0  39.196334  78.530294  0\n",
      "1  40.448499  86.839470  1\n",
      "2  65.571920  44.303497  0\n",
      "3  79.648113  70.806564  1\n",
      "4  66.260221  41.672703  0\n"
     ]
    }
   ],
   "source": [
    "X_test, y_test = read_data(\"ex1-data-test.csv\")"
   ]
  },
  {
   "cell_type": "code",
   "execution_count": 53,
   "metadata": {
    "pycharm": {
     "is_executing": false
    }
   },
   "outputs": [
    {
     "name": "stdout",
     "output_type": "stream",
     "text": [
      "Accuracy on test set (x1 only):  0.66\n"
     ]
    }
   ],
   "source": [
    "# Computation of the accuracy on the test set using only x1 feature\n",
    "\n",
    "y_pred = []\n",
    "for x1 in X_test[\"x1\"]:\n",
    "    p_x1_c0 = likelihood_hist(x1, histograms[0][0], histograms[0][1][:-1])\n",
    "    p_x1_c1 = likelihood_hist(x1, histograms[1][0], histograms[1][1][:-1])\n",
    "    p_c0_x1 = p_x1_c0 * p_c0 / (p_x1_c0 * p_c0 + p_x1_c1 * p_c1)\n",
    "    y_pred.append(0 if p_c0_x1 > 0.5 else 1)\n",
    "\n",
    "print(\"Accuracy on test set (x1 only): \", accuracy_score(y_test, y_pred))"
   ]
  },
  {
   "cell_type": "code",
   "execution_count": 54,
   "metadata": {},
   "outputs": [
    {
     "name": "stdout",
     "output_type": "stream",
     "text": [
      "Accuracy on test set (x2 only):  0.61\n"
     ]
    }
   ],
   "source": [
    "# Computation of the accuracy on the test set using only x2 feature\n",
    "\n",
    "y_pred = []\n",
    "for x in X_test[\"x2\"]:\n",
    "    p_x2_c0 = likelihood_hist(x, histograms[2][0], histograms[2][1][:-1])\n",
    "    p_x2_c1 = likelihood_hist(x, histograms[3][0], histograms[3][1][:-1])\n",
    "    p_c0_x2 = p_x2_c0 * p_c0 / (p_x2_c0 * p_c0 + p_x2_c1 * p_c1)\n",
    "    y_pred.append(0 if p_c0_x2 > 0.5 else 1)\n",
    "\n",
    "print(\"Accuracy on test set (x2 only): \", accuracy_score(y_test, y_pred))"
   ]
  },
  {
   "cell_type": "code",
   "execution_count": 55,
   "metadata": {},
   "outputs": [
    {
     "name": "stdout",
     "output_type": "stream",
     "text": [
      "Accuracy on test set (x1 and x2):  0.68\n"
     ]
    }
   ],
   "source": [
    "# Computation of the accuracy on the test set using both x1 and x2 features\n",
    "\n",
    "y_pred = []\n",
    "for x1, x2 in zip(X_test[\"x1\"], X_test[\"x2\"]):\n",
    "    p_x1_c0 = likelihood_hist(x1, histograms[0][0], histograms[0][1][:-1])\n",
    "    p_x1_c1 = likelihood_hist(x1, histograms[1][0], histograms[1][1][:-1])\n",
    "    p_x2_c0 = likelihood_hist(x2, histograms[2][0], histograms[2][1][:-1])\n",
    "    p_x2_c1 = likelihood_hist(x2, histograms[3][0], histograms[3][1][:-1])\n",
    "    p_c0_x1x2 = p_x1_c0 * p_x2_c0 * p_c0 / (p_x1_c0 * p_x2_c0 * p_c0 + p_x1_c1 * p_x2_c1 * p_c1)\n",
    "    y_pred.append(0 if p_c0_x1x2 > 0.5 else 1)\n",
    "\n",
    "print(\"Accuracy on test set (x1 and x2): \", accuracy_score(y_test, y_pred))"
   ]
  },
  {
   "cell_type": "markdown",
   "metadata": {},
   "source": [
    "Which system is the best ?"
   ]
  },
  {
   "cell_type": "markdown",
   "metadata": {},
   "source": [
    "The best system is the one with the highest accuracy. In this case, the best system is the one using both features. But we can see that the system using only x1 is almost as good as the one using both features."
   ]
  },
  {
   "cell_type": "markdown",
   "metadata": {},
   "source": [
    "## 1b. Bayes - Univariate Gaussian distribution"
   ]
  },
  {
   "cell_type": "markdown",
   "metadata": {},
   "source": [
    "Do the same as in a) but this time using univariate Gaussian distribution to model the likelihoods p(x1|C0), p(x1|C1), p(x2|C0) and p(x2|C1). You may use the numpy functions `mean()` and `var()` to compute the mean μ and variance σ2 of the distribution. To model the likelihood of both features, you may also do the naive Bayes hypothesis of feature independence, i.e. p(X|Ck) = p(x1|Ck) · p(x2|Ck).\n"
   ]
  },
  {
   "cell_type": "code",
   "execution_count": 56,
   "metadata": {
    "pycharm": {
     "is_executing": false
    }
   },
   "outputs": [],
   "source": [
    "def likelihood_univariate_gaussian(x: float, mean: float, var: float) -> float:\n",
    "    return 1 / math.sqrt(2 * math.pi * var) * math.exp(- (x - mean) ** 2 / (2 * var))"
   ]
  },
  {
   "cell_type": "code",
   "execution_count": 57,
   "metadata": {
    "pycharm": {
     "is_executing": false
    }
   },
   "outputs": [],
   "source": [
    "# TODO: Compute mean and variance for each classes and each features (8 values)\n",
    "means = [\n",
    "    np.mean(X_train[y_train == 0][\"x1\"]),\n",
    "    np.mean(X_train[y_train == 0][\"x2\"]),\n",
    "    np.mean(X_train[y_train == 1][\"x1\"]),\n",
    "    np.mean(X_train[y_train == 1][\"x2\"])\n",
    "]\n",
    "\n",
    "variances = [\n",
    "   np.var(X_train[y_train == 0][\"x1\"]),\n",
    "   np.var(X_train[y_train == 0][\"x2\"]),\n",
    "   np.var(X_train[y_train == 1][\"x1\"]),\n",
    "   np.var(X_train[y_train == 1][\"x2\"])\n",
    "]\n"
   ]
  },
  {
   "cell_type": "code",
   "execution_count": 58,
   "metadata": {},
   "outputs": [
    {
     "data": {
      "text/plain": [
       "0.00027650980119143533"
      ]
     },
     "execution_count": 58,
     "metadata": {},
     "output_type": "execute_result"
    }
   ],
   "source": [
    "likelihood_univariate_gaussian(0.5, means[0], variances[0])"
   ]
  },
  {
   "cell_type": "code",
   "execution_count": 59,
   "metadata": {},
   "outputs": [
    {
     "data": {
      "text/plain": [
       "0.89"
      ]
     },
     "execution_count": 59,
     "metadata": {},
     "output_type": "execute_result"
    }
   ],
   "source": [
    "# TODO: predict on test set in the 3 cases\n",
    "\n",
    "y_pred = []\n",
    "\n",
    "for x1, x2 in zip(X_test[\"x1\"], X_test[\"x2\"]):\n",
    "      p_x_c0 = likelihood_univariate_gaussian(x1, means[0], variances[0]) * likelihood_univariate_gaussian(x2, means[1], variances[1]) * p_c0\n",
    "      p_x_c1 = likelihood_univariate_gaussian(x1, means[2], variances[2]) * likelihood_univariate_gaussian(x2, means[3], variances[3]) * p_c1\n",
    "      y_pred.append(0 if p_x_c0 > p_x_c1 else 1)\n",
    "\n",
    "accuracy_score(y_test, y_pred)"
   ]
  }
 ],
 "metadata": {
  "kernelspec": {
   "display_name": "Python 3 (ipykernel)",
   "language": "python",
   "name": "python3"
  },
  "language_info": {
   "codemirror_mode": {
    "name": "ipython",
    "version": 3
   },
   "file_extension": ".py",
   "mimetype": "text/x-python",
   "name": "python",
   "nbconvert_exporter": "python",
   "pygments_lexer": "ipython3",
   "version": "3.10.13"
  },
  "pycharm": {
   "stem_cell": {
    "cell_type": "raw",
    "metadata": {
     "collapsed": false
    },
    "source": []
   }
  }
 },
 "nbformat": 4,
 "nbformat_minor": 1
}
