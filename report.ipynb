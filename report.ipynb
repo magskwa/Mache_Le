{
 "cells": [
  {
   "cell_type": "markdown",
   "metadata": {},
   "source": [
    "## Q 5.1\n",
    "Assuming we use $k = 3$, then the model predicts that the life satisfaction for Cyprus is $6.36$."
   ]
  },
  {
   "cell_type": "markdown",
   "metadata": {},
   "source": [
    "## Q 5.2\n",
    "Assuming we use $k = 3$ again, then the model predicts that the life satisfaction for Switzerland is $7.3$."
   ]
  },
  {
   "cell_type": "markdown",
   "metadata": {},
   "source": [
    "## Q 5.3\n",
    "As we increase $k$, we begin to lose *locality*. All predictions are influenced by points that are \"too far\" from the one we want to get a prediction for, and start to go towards the __average of the training set__. This is evident when using $k = N = 27$, which means that all predictions always use all points in the training set. Due to this fact, predictions made in this setting are always exactly the same: the average of the training set."
   ]
  },
  {
   "cell_type": "markdown",
   "metadata": {},
   "source": []
  }
 ],
 "metadata": {
  "kernelspec": {
   "display_name": "machle",
   "language": "python",
   "name": "python3"
  },
  "language_info": {
   "name": "python",
   "version": "3.11.5"
  },
  "orig_nbformat": 4
 },
 "nbformat": 4,
 "nbformat_minor": 2
}
