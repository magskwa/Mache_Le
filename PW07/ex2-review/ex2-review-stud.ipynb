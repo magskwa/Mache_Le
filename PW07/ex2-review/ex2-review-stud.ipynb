{
 "cells": [
  {
   "cell_type": "markdown",
   "id": "747b5d41",
   "metadata": {},
   "source": [
    "# Ex2 - Review questions"
   ]
  },
  {
   "cell_type": "markdown",
   "id": "e60f6082",
   "metadata": {},
   "source": [
    "### a) What are the two fundamental ideas a SVM are built on ? Summarize them with your own words."
   ]
  },
  {
   "cell_type": "markdown",
   "id": "2d929674",
   "metadata": {},
   "source": [
    "SVM is a supervised learning algorithm that can be used for both classification and regression problems. The two fundamental ideas are:\n",
    "- find a separation boundary between the classes that is as far away from the data points as possible, so that the margin is maximized\n",
    "- the kernel trick is in order to transform the problem into a linearly separable problem, we can transform the input data into higher dimensional space."
   ]
  },
  {
   "cell_type": "markdown",
   "id": "266203b9",
   "metadata": {},
   "source": [
    "### b) With the hinge loss, training points can fall into three cases. Re-explain these cases with your own words."
   ]
  },
  {
   "cell_type": "markdown",
   "id": "fbbb3fe5",
   "metadata": {},
   "source": [
    "One input data can fall into three different categories:\n",
    "1. The data point is on the correct side of the margin, so it does not contribute to the loss (meaning no adjustment is needed)\n",
    "2. The data point is misclassified, but it is close to the margin, so it does not contribute much to the loss (meaning only a small adjustment is needed)\n",
    "3. The data point is misclassified and far away from the margin, so it contributes a lot to the loss (meaning a large adjustment is needed)"
   ]
  },
  {
   "cell_type": "markdown",
   "id": "18438801",
   "metadata": {},
   "source": [
    "### c) What are the two implementations of SVMs available in SciKit Learn ? Which one would you take if you have a system that needs to incorporate incremental learning ?"
   ]
  },
  {
   "cell_type": "markdown",
   "id": "797101d2",
   "metadata": {},
   "source": [
    "The two implementations of SVMs available in SciKit Learn are the SVC and the SDGClassifier. The last one allows for incremental learning, with its partial_fit() method."
   ]
  },
  {
   "cell_type": "markdown",
   "id": "9bd848f8",
   "metadata": {},
   "source": [
    "### d) A SVM can classify between 2 classes. Cite and explain in your own words the 2 strategies we have to build a multi-class (with K classes) system with SVM ?"
   ]
  },
  {
   "cell_type": "markdown",
   "id": "c8c2fefe",
   "metadata": {},
   "source": [
    "The two strategies to build a multi-class system with SVM are:\n",
    "- one vs one: train a binary classifier for each pair of classes, and then classify the new data point by using the majority vote\n",
    "- one vs all: train a binary classifier for each class, and then classify the new data point by using the highest score"
   ]
  },
  {
   "cell_type": "markdown",
   "id": "9a6c6821",
   "metadata": {},
   "source": [
    "### e) Are the strategies of point d) equal in terms of cpu ? (elaborate your answer considering training and testing times)"
   ]
  },
  {
   "cell_type": "markdown",
   "id": "ca341ee1",
   "metadata": {},
   "source": [
    "One versus one is a method that implies to train more model K(K-1)/2 than the one versus all methods. This means that the training time will be longer for the one versus one method and therefor use more CPU."
   ]
  },
  {
   "cell_type": "markdown",
   "id": "458ede30",
   "metadata": {},
   "source": [
    "### f) Describe a machine learning task for which SVM would be a better choice than any of the algorithms previously studied. Explain why."
   ]
  },
  {
   "cell_type": "markdown",
   "id": "18048e25",
   "metadata": {},
   "source": [
    "For example text classification, because the number of features is usually large, and SVMs work well with high dimensional data."
   ]
  }
 ],
 "metadata": {
  "kernelspec": {
   "display_name": "Python 3 (ipykernel)",
   "language": "python",
   "name": "python3"
  },
  "language_info": {
   "codemirror_mode": {
    "name": "ipython",
    "version": 3
   },
   "file_extension": ".py",
   "mimetype": "text/x-python",
   "name": "python",
   "nbconvert_exporter": "python",
   "pygments_lexer": "ipython3",
   "version": "3.7.11"
  }
 },
 "nbformat": 4,
 "nbformat_minor": 5
}
