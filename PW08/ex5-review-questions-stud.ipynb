{
 "cells": [
  {
   "cell_type": "markdown",
   "id": "d07f854c",
   "metadata": {},
   "source": [
    "# PW8 - Exercise 5 - Review Questions"
   ]
  },
  {
   "cell_type": "markdown",
   "id": "07f9abb1",
   "metadata": {},
   "source": [
    "## a) Re-explain in your own words the steps of the K-Means algorithm."
   ]
  },
  {
   "cell_type": "markdown",
   "id": "c871d20c",
   "metadata": {},
   "source": [
    "Here are the main steps of the K-Means algorithm: \n",
    "- initialize the centroids (choosen randomly if data are normalized, otherwise choosen randomly among the data points)\n",
    "- loop \n",
    "   - assign each data point to the closest centroid (using the Euclidean distance usually)\n",
    "   - compute the new centroids as the mean of the data points assigned to the previous centroids"
   ]
  },
  {
   "cell_type": "markdown",
   "id": "2f8288da",
   "metadata": {},
   "source": [
    "## b) Are we guaranteed to observe a decreasing distortion J from one epoch to the other in the K-Means ?"
   ]
  },
  {
   "cell_type": "markdown",
   "id": "131ed82c",
   "metadata": {},
   "source": [
    "No we are not guaranteed to observe a decreasing distortion J from one epoch to the other in the K-Means. Indeed, the K-Means algorithm is not guaranteed to converge to the global minimum of the distortion J. It is only guaranteed to converge to a local minimum."
   ]
  },
  {
   "cell_type": "markdown",
   "id": "323d614f",
   "metadata": {},
   "source": [
    "## c) For two different initial values of the centroids in the K-Means, can we get different end values of the distortion J ? Argument your answer."
   ]
  },
  {
   "cell_type": "markdown",
   "id": "84a47dd4",
   "metadata": {},
   "source": [
    "Yes we can get different end values of the distortion J. Indeed, the K-Means algorithm is not deterministic. It depends on the initialization of the centroids. If we initialize the centroids with the same values, we will get the same end values of the distortion J."
   ]
  },
  {
   "cell_type": "markdown",
   "id": "2f223bb3",
   "metadata": {},
   "source": [
    "## d) Can the K-Means be used as a compression algorithm ? Compute the compression ratio for a setting with 256 centroids and an input space at two dimensions ($x_1$, $x_2$) encoded in float32."
   ]
  },
  {
   "cell_type": "markdown",
   "id": "a7f7ae52",
   "metadata": {},
   "source": [
    "Yes the K-Means can be used as a compression algorithm. Indeed, the K-Means algorithm can be used to reduce the dimensionality of the data. The compression ratio is the ratio between the number of centroids and the number of data points. "
   ]
  },
  {
   "cell_type": "markdown",
   "id": "e34dab83",
   "metadata": {},
   "source": [
    "## e) What is the use of the elbow method ? Explain it in your own words."
   ]
  },
  {
   "cell_type": "markdown",
   "id": "88f8648e",
   "metadata": {},
   "source": [
    "The elbow method is used to find the optimal number of clusters in the K-Means algorithm. It consists in plotting the distortion J as a function of the number of clusters. The optimal number of clusters is the number of clusters where the distortion J starts to decrease more slowly."
   ]
  },
  {
   "cell_type": "markdown",
   "id": "c0206d1d",
   "metadata": {},
   "source": [
    "## f) Give an example where we would know in advance the number of clusters we want to discover with a clustering algorithm."
   ]
  },
  {
   "cell_type": "markdown",
   "id": "3948c3ba",
   "metadata": {},
   "source": [
    "An example where we would know in advance the number of clusters we want to discover with a clustering algorithm is the clustering of the pixels of an image. Indeed, we know in advance the number of clusters we want to discover with a clustering algorithm because we know the number of colors we want to use to represent the image."
   ]
  },
  {
   "cell_type": "markdown",
   "id": "91b04b3b",
   "metadata": {},
   "source": [
    "## g) It is possible to compute the distortion $J_k$ for a given centroid k. If we observe that the distortion $J_k$ for centroid k is really bigger than the other distortions and that the number of points $N_k$ associated to this centroid is also bigger than for the other centroids, what can we say about the dataset and cluster k of points ? Could you suggest a strategy to make things better ?"
   ]
  },
  {
   "cell_type": "markdown",
   "id": "4c118765",
   "metadata": {},
   "source": [
    "If we observe that the distortion $J_k$ for centroid k is really bigger than the other distortions and that the number of points $N_k$ associated to this centroid is also bigger than for the other centroids, we can say that the centroid k is an outlier. Indeed, the centroid k is far from the other centroids and it is associated to a lot of data points. To make things better, we could remove the centroid k and recompute the centroids."
   ]
  }
 ],
 "metadata": {
  "kernelspec": {
   "display_name": "Python 3 (ipykernel)",
   "language": "python",
   "name": "python3"
  },
  "language_info": {
   "codemirror_mode": {
    "name": "ipython",
    "version": 3
   },
   "file_extension": ".py",
   "mimetype": "text/x-python",
   "name": "python",
   "nbconvert_exporter": "python",
   "pygments_lexer": "ipython3",
   "version": "3.8.7"
  }
 },
 "nbformat": 4,
 "nbformat_minor": 5
}
