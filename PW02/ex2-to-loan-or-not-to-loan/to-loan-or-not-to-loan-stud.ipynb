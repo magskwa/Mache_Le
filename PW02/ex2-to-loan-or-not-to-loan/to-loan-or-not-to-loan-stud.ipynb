{
 "cells": [
  {
   "cell_type": "markdown",
   "id": "5da8da61",
   "metadata": {},
   "source": [
    "# Exercice 2: Classification system with KNN - To Loan or Not To Loan"
   ]
  },
  {
   "cell_type": "markdown",
   "id": "9669e493",
   "metadata": {},
   "source": [
    "## Imports"
   ]
  },
  {
   "cell_type": "markdown",
   "id": "22bbd869",
   "metadata": {},
   "source": [
    "Import some useful libraries"
   ]
  },
  {
   "cell_type": "code",
   "execution_count": 5,
   "id": "26758936",
   "metadata": {
    "ExecuteTime": {
     "end_time": "2023-10-01T20:02:16.222255373Z",
     "start_time": "2023-10-01T20:02:16.176408918Z"
    }
   },
   "outputs": [],
   "source": [
    "import pandas as pd\n",
    "import numpy as np\n",
    "from sklearn.preprocessing import OrdinalEncoder, StandardScaler\n",
    "from sklearn.model_selection import train_test_split"
   ]
  },
  {
   "cell_type": "markdown",
   "id": "abc131ca",
   "metadata": {},
   "source": [
    "## a. Getting started"
   ]
  },
  {
   "cell_type": "markdown",
   "id": "45b518e5",
   "metadata": {},
   "source": [
    "### Data loading"
   ]
  },
  {
   "cell_type": "markdown",
   "id": "1ef061f2",
   "metadata": {},
   "source": [
    "The original dataset comes from the Kaggle's [Loan Prediction](https://www.kaggle.com/ninzaami/loan-predication) problem. The provided dataset has already undergone some processing, such as removing some columns and invalid data. Pandas is used to read the CSV file."
   ]
  },
  {
   "cell_type": "code",
   "execution_count": 6,
   "id": "a23f62b5",
   "metadata": {
    "ExecuteTime": {
     "end_time": "2023-10-01T20:02:17.261501477Z",
     "start_time": "2023-10-01T20:02:17.255108453Z"
    }
   },
   "outputs": [],
   "source": [
    "data = pd.read_csv(\"loandata.csv\")"
   ]
  },
  {
   "cell_type": "markdown",
   "id": "02ca77c7",
   "metadata": {},
   "source": [
    "Display the head of the data."
   ]
  },
  {
   "cell_type": "code",
   "execution_count": 7,
   "id": "f4bec500",
   "metadata": {
    "ExecuteTime": {
     "end_time": "2023-10-01T20:02:18.914363255Z",
     "start_time": "2023-10-01T20:02:18.907292008Z"
    }
   },
   "outputs": [
    {
     "data": {
      "text/plain": "  Gender Married     Education  TotalIncome  LoanAmount  CreditHistory  \\\n0   Male     Yes      Graduate       6091.0       128.0            1.0   \n1   Male     Yes      Graduate       3000.0        66.0            1.0   \n2   Male     Yes  Not Graduate       4941.0       120.0            1.0   \n3   Male      No      Graduate       6000.0       141.0            1.0   \n4   Male     Yes      Graduate       9613.0       267.0            1.0   \n\n  LoanStatus  \n0          N  \n1          Y  \n2          Y  \n3          Y  \n4          Y  ",
      "text/html": "<div>\n<style scoped>\n    .dataframe tbody tr th:only-of-type {\n        vertical-align: middle;\n    }\n\n    .dataframe tbody tr th {\n        vertical-align: top;\n    }\n\n    .dataframe thead th {\n        text-align: right;\n    }\n</style>\n<table border=\"1\" class=\"dataframe\">\n  <thead>\n    <tr style=\"text-align: right;\">\n      <th></th>\n      <th>Gender</th>\n      <th>Married</th>\n      <th>Education</th>\n      <th>TotalIncome</th>\n      <th>LoanAmount</th>\n      <th>CreditHistory</th>\n      <th>LoanStatus</th>\n    </tr>\n  </thead>\n  <tbody>\n    <tr>\n      <th>0</th>\n      <td>Male</td>\n      <td>Yes</td>\n      <td>Graduate</td>\n      <td>6091.0</td>\n      <td>128.0</td>\n      <td>1.0</td>\n      <td>N</td>\n    </tr>\n    <tr>\n      <th>1</th>\n      <td>Male</td>\n      <td>Yes</td>\n      <td>Graduate</td>\n      <td>3000.0</td>\n      <td>66.0</td>\n      <td>1.0</td>\n      <td>Y</td>\n    </tr>\n    <tr>\n      <th>2</th>\n      <td>Male</td>\n      <td>Yes</td>\n      <td>Not Graduate</td>\n      <td>4941.0</td>\n      <td>120.0</td>\n      <td>1.0</td>\n      <td>Y</td>\n    </tr>\n    <tr>\n      <th>3</th>\n      <td>Male</td>\n      <td>No</td>\n      <td>Graduate</td>\n      <td>6000.0</td>\n      <td>141.0</td>\n      <td>1.0</td>\n      <td>Y</td>\n    </tr>\n    <tr>\n      <th>4</th>\n      <td>Male</td>\n      <td>Yes</td>\n      <td>Graduate</td>\n      <td>9613.0</td>\n      <td>267.0</td>\n      <td>1.0</td>\n      <td>Y</td>\n    </tr>\n  </tbody>\n</table>\n</div>"
     },
     "execution_count": 7,
     "metadata": {},
     "output_type": "execute_result"
    }
   ],
   "source": [
    "data.head()"
   ]
  },
  {
   "cell_type": "markdown",
   "id": "e271b475",
   "metadata": {},
   "source": [
    "Data's columns:\n",
    "* **Gender:** Applicant gender (Male/ Female)\n",
    "* **Married:** Is the Applicant married? (Y/N)\n",
    "* **Education:** Applicant Education (Graduate/ Not Graduate)\n",
    "* **TotalIncome:** Applicant total income (sum of `ApplicantIncome` and `CoapplicantIncome` columns in the original dataset)\n",
    "* **LoanAmount:** Loan amount in thousands\n",
    "* **CreditHistory:** Credit history meets guidelines\n",
    "* **LoanStatus** (Target)**:** Loan approved (Y/N)"
   ]
  },
  {
   "cell_type": "markdown",
   "id": "702ce4e6",
   "metadata": {},
   "source": [
    "### Data preprocessing"
   ]
  },
  {
   "cell_type": "markdown",
   "id": "7fce724c",
   "metadata": {},
   "source": [
    "Define a list of categorical columns to encode."
   ]
  },
  {
   "cell_type": "code",
   "execution_count": 8,
   "id": "2c56efa5",
   "metadata": {
    "ExecuteTime": {
     "end_time": "2023-10-01T20:02:21.557870868Z",
     "start_time": "2023-10-01T20:02:21.553433974Z"
    }
   },
   "outputs": [],
   "source": [
    "categorical_columns = [\"Gender\", \"Married\", \"Education\", \"LoanStatus\"]"
   ]
  },
  {
   "cell_type": "markdown",
   "id": "d8915a68",
   "metadata": {},
   "source": [
    "Encode categorical columns using the [`OrdinalEncoder`](https://scikit-learn.org/stable/modules/generated/sklearn.preprocessing.OrdinalEncoder.html) of scikit learn."
   ]
  },
  {
   "cell_type": "code",
   "execution_count": 9,
   "id": "dc5f9cda",
   "metadata": {
    "ExecuteTime": {
     "end_time": "2023-10-01T20:02:22.730823134Z",
     "start_time": "2023-10-01T20:02:22.726844552Z"
    }
   },
   "outputs": [],
   "source": [
    "data[categorical_columns] = OrdinalEncoder().fit_transform(data[categorical_columns])"
   ]
  },
  {
   "cell_type": "markdown",
   "id": "df9c84b4",
   "metadata": {},
   "source": [
    "Split into `X` and `y`."
   ]
  },
  {
   "cell_type": "code",
   "execution_count": 10,
   "id": "83beacfb",
   "metadata": {
    "ExecuteTime": {
     "end_time": "2023-10-01T20:02:24.329704933Z",
     "start_time": "2023-10-01T20:02:24.317467512Z"
    }
   },
   "outputs": [],
   "source": [
    "X = data.drop(columns=\"LoanStatus\")\n",
    "y = data.LoanStatus"
   ]
  },
  {
   "cell_type": "markdown",
   "id": "e25c8f24",
   "metadata": {},
   "source": [
    "Normalize data using the [`StandardScaler`](https://scikit-learn.org/stable/modules/generated/sklearn.preprocessing.StandardScaler.html) of scikit learn."
   ]
  },
  {
   "cell_type": "code",
   "execution_count": 11,
   "id": "9c567bb7",
   "metadata": {
    "ExecuteTime": {
     "end_time": "2023-10-01T20:02:25.935937798Z",
     "start_time": "2023-10-01T20:02:25.933693462Z"
    }
   },
   "outputs": [],
   "source": [
    "X[X.columns] = StandardScaler().fit_transform(X[X.columns])"
   ]
  },
  {
   "cell_type": "markdown",
   "id": "7437ea21",
   "metadata": {},
   "source": [
    "Convert `y` type to `int` "
   ]
  },
  {
   "cell_type": "code",
   "execution_count": 12,
   "id": "c0db7c1f",
   "metadata": {
    "ExecuteTime": {
     "end_time": "2023-10-01T20:02:27.309629403Z",
     "start_time": "2023-10-01T20:02:27.292394156Z"
    }
   },
   "outputs": [],
   "source": [
    "y = y.astype(int)"
   ]
  },
  {
   "cell_type": "markdown",
   "id": "6d1d1f10",
   "metadata": {},
   "source": [
    "Split dataset into train and test sets."
   ]
  },
  {
   "cell_type": "code",
   "execution_count": 13,
   "id": "b05be2cc",
   "metadata": {
    "ExecuteTime": {
     "end_time": "2023-10-01T20:02:28.398431762Z",
     "start_time": "2023-10-01T20:02:28.390245945Z"
    }
   },
   "outputs": [],
   "source": [
    "X_train, X_test, y_train, y_test = train_test_split(X, y, stratify=y, test_size=0.2, random_state=42)"
   ]
  },
  {
   "cell_type": "markdown",
   "id": "8f6d3ce6",
   "metadata": {},
   "source": [
    "## b. Dummy classifier"
   ]
  },
  {
   "cell_type": "markdown",
   "id": "80ec4058",
   "metadata": {},
   "source": [
    "Build a dummy classifier that takes decisions randomly."
   ]
  },
  {
   "cell_type": "code",
   "execution_count": 14,
   "id": "30919672",
   "metadata": {
    "ExecuteTime": {
     "end_time": "2023-10-01T20:02:30.172197568Z",
     "start_time": "2023-10-01T20:02:30.147809752Z"
    }
   },
   "outputs": [],
   "source": [
    "class DummyClassifier:\n",
    "    def __init__(self):\n",
    "        \"\"\"\n",
    "        Initialize the class.\n",
    "        \"\"\"\n",
    "        self.perc = dict()\n",
    "    \n",
    "    def fit(self, X, y):\n",
    "        \"\"\"\n",
    "        Fit the dummy classifier.\n",
    "        \n",
    "        Parameters\n",
    "        ----------\n",
    "        X : Numpy array or Pandas DataFrame of shape (n_samples, n_features)\n",
    "            Training data.\n",
    "        y : Numpy array or Pandas DataFrame of shape (n_samples,)\n",
    "            Target values.\n",
    "        \"\"\"\n",
    "        unique, counts = np.unique(y, return_counts=True)\n",
    "        counts = counts / y.shape[0]\n",
    "        self.perc = dict(zip(unique, counts))\n",
    "    \n",
    "    def predict(self, X):\n",
    "        \"\"\"\n",
    "        Predict the class labels for the provided data.\n",
    "\n",
    "        Parameters\n",
    "        ----------\n",
    "        X : Numpy array or Pandas DataFrame of shape (n_queries, n_features)\n",
    "            Test samples.\n",
    "\n",
    "        Returns\n",
    "        -------\n",
    "        y : Numpy array or Pandas DataFrame of shape (n_queries,)\n",
    "            Class labels for each data sample.\n",
    "        \"\"\"\n",
    "        return np.random.choice(list(self.perc.keys()), size=X.shape[0], p=list(self.perc.values()))"
   ]
  },
  {
   "cell_type": "markdown",
   "id": "1dd67c48",
   "metadata": {},
   "source": [
    "Implement a function to evaluate the performance of a classification by computing the accuracy ($N_{correct}/N$)."
   ]
  },
  {
   "cell_type": "code",
   "execution_count": 27,
   "id": "184f3905",
   "metadata": {
    "ExecuteTime": {
     "end_time": "2023-10-01T20:04:13.576202052Z",
     "start_time": "2023-10-01T20:04:13.572960925Z"
    }
   },
   "outputs": [],
   "source": [
    "def accuracy_score(y_true, y_pred):\n",
    "    \"\"\"\n",
    "    Compute the accuracy of the classifier.\n",
    "\n",
    "    Parameters\n",
    "    ----------\n",
    "    y_true : Numpy array or Pandas DataFrame of shape (n_queries,)\n",
    "        Ground truth (correct) target values.\n",
    "    y_pred : Numpy array or Pandas DataFrame of shape (n_queries,)\n",
    "        Predicted labels, as returned by a classifier.\n",
    "\n",
    "    Returns\n",
    "    -------\n",
    "    score : float\n",
    "        The accuracy of the classifier.\n",
    "    \"\"\"\n",
    "    return np.count_nonzero(y_true == y_pred) / y_true.shape[0]"
   ]
  },
  {
   "cell_type": "markdown",
   "id": "90dcae17",
   "metadata": {},
   "source": [
    "Compute the performance of the dummy classifier using the provided test set."
   ]
  },
  {
   "cell_type": "code",
   "execution_count": 24,
   "id": "fa666b66",
   "metadata": {
    "ExecuteTime": {
     "end_time": "2023-10-01T20:02:41.315362053Z",
     "start_time": "2023-10-01T20:02:41.311408015Z"
    }
   },
   "outputs": [
    {
     "name": "stdout",
     "output_type": "stream",
     "text": [
      "Accuracy: 0.5104166666666666\n"
     ]
    }
   ],
   "source": [
    "dcl = DummyClassifier()\n",
    "dcl.fit(X_train, y_train)\n",
    "y_pred = dcl.predict(X_test)\n",
    "print(\"Accuracy: \" + str(accuracy_score(y_test, y_pred)))"
   ]
  },
  {
   "cell_type": "markdown",
   "id": "9e10cd97",
   "metadata": {},
   "source": [
    "## c. K-Nearest Neighbors classifier"
   ]
  },
  {
   "cell_type": "markdown",
   "id": "70009457",
   "metadata": {},
   "source": [
    "Build a K-Nearest Neighbors classifier using an Euclidian distance computation and a simple majority voting criterion."
   ]
  },
  {
   "cell_type": "code",
   "execution_count": 34,
   "id": "759e924e",
   "metadata": {
    "ExecuteTime": {
     "end_time": "2023-10-01T20:08:28.645582657Z",
     "start_time": "2023-10-01T20:08:28.634012934Z"
    }
   },
   "outputs": [],
   "source": [
    "class KNNClassifier:\n",
    "    def __init__(self, n_neighbors=3):\n",
    "        \"\"\"\n",
    "        Initialize the class.\n",
    "        \n",
    "        Parameters\n",
    "        ----------\n",
    "        n_neighbors : int, default=3\n",
    "            Number of neighbors to use by default.\n",
    "        \"\"\"\n",
    "        self.n_neighbors = n_neighbors\n",
    "        self.X = []\n",
    "        self.y = []\n",
    "    \n",
    "    def fit(self, X, y):\n",
    "        \"\"\"\n",
    "        Fit the k-nearest neighbors classifier.\n",
    "        \n",
    "        Parameters\n",
    "        ----------\n",
    "        X : Numpy array or Pandas DataFrame of shape (n_samples, n_features)\n",
    "            Training data.\n",
    "        y : Numpy array or Pandas DataFrame of shape (n_samples,)\n",
    "            Target values.\n",
    "        \"\"\"\n",
    "        self.X = X\n",
    "        self.y = np.array(y)\n",
    "        \n",
    "    \n",
    "    @staticmethod\n",
    "    def _euclidian_distance(a, b):\n",
    "        \"\"\"\n",
    "        Utility function to compute the euclidian distance.\n",
    "        \n",
    "        Parameters\n",
    "        ----------\n",
    "        a : Numpy array or Pandas DataFrame\n",
    "            First operand.\n",
    "        b : Numpy array or Pandas DataFrame\n",
    "            Second operand.\n",
    "        \"\"\"\n",
    "        return np.linalg.norm(a - b)\n",
    "\n",
    "    def _predict(self, x):\n",
    "        \"\"\"\n",
    "        Predict the class label for one vector of data\n",
    "        \n",
    "        Parameters\n",
    "        ----------\n",
    "        x : Numpy array or Pandas DataFrame of shape (n_features)\n",
    "            Test samples.\n",
    "            \n",
    "        Returns\n",
    "        -------\n",
    "        x : numeric, class label \n",
    "        \"\"\"\n",
    "        dists = np.array([self._euclidian_distance(x, a) for a in self.X.values])\n",
    "        idx = np.argpartition(dists, self.n_neighbors)[:self.n_neighbors]\n",
    "        classes = self.y[idx]\n",
    "        counts = np.bincount(classes)\n",
    "        return np.argmax(counts)\n",
    "    \n",
    "    def predict(self, X):\n",
    "        \"\"\"\n",
    "        Predict the class labels for the provided data.\n",
    "\n",
    "        Parameters\n",
    "        ----------\n",
    "        X : Numpy array or Pandas DataFrame of shape (n_queries, n_features)\n",
    "            Test samples.\n",
    "\n",
    "        Returns\n",
    "        -------\n",
    "        y : Numpy array or Pandas DataFrame of shape (n_queries,)\n",
    "            Class labels for each data sample.\n",
    "        \"\"\"\n",
    "        return np.array([self._predict(x) for x in X.values])"
   ]
  },
  {
   "cell_type": "markdown",
   "id": "6c2b4811",
   "metadata": {},
   "source": [
    "Compute the performance of the system as a function of $k = 1...7$."
   ]
  },
  {
   "cell_type": "code",
   "execution_count": 36,
   "id": "cf589e66",
   "metadata": {
    "ExecuteTime": {
     "end_time": "2023-10-01T20:08:54.472473822Z",
     "start_time": "2023-10-01T20:08:53.951077068Z"
    }
   },
   "outputs": [
    {
     "name": "stdout",
     "output_type": "stream",
     "text": [
      "Accuracy for k = 1: 0.6979166666666666\n",
      "Accuracy for k = 2: 0.6354166666666666\n",
      "Accuracy for k = 3: 0.7916666666666666\n",
      "Accuracy for k = 4: 0.7395833333333334\n",
      "Accuracy for k = 5: 0.8125\n",
      "Accuracy for k = 6: 0.78125\n",
      "Accuracy for k = 7: 0.8020833333333334\n"
     ]
    }
   ],
   "source": [
    "# Test the classifier for k = 1 to 7\n",
    "for k in range(1, 8):\n",
    "    knn = KNNClassifier(n_neighbors=k)\n",
    "    knn.fit(X_train, y_train)\n",
    "    y_pred = knn.predict(X_test)\n",
    "    print(\"Accuracy for k = \" + str(k) + \": \" + str(accuracy_score(y_test, y_pred)))"
   ]
  },
  {
   "cell_type": "markdown",
   "id": "71c51f35",
   "metadata": {},
   "source": [
    "Run the KNN algorithm using only the features `TotalIncome` and `CreditHistory`."
   ]
  },
  {
   "cell_type": "code",
   "execution_count": 37,
   "id": "2f6f262b",
   "metadata": {
    "ExecuteTime": {
     "end_time": "2023-10-01T20:08:59.579412478Z",
     "start_time": "2023-10-01T20:08:59.063110582Z"
    }
   },
   "outputs": [
    {
     "name": "stdout",
     "output_type": "stream",
     "text": [
      "Accuracy for k = 1: 0.7604166666666666\n",
      "Accuracy for k = 2: 0.6875\n",
      "Accuracy for k = 3: 0.78125\n",
      "Accuracy for k = 4: 0.6979166666666666\n",
      "Accuracy for k = 5: 0.8229166666666666\n",
      "Accuracy for k = 6: 0.7708333333333334\n",
      "Accuracy for k = 7: 0.8125\n"
     ]
    }
   ],
   "source": [
    "X_train_2c = X_train[[\"TotalIncome\", \"CreditHistory\"]]\n",
    "X_test_2c = X_test[[\"TotalIncome\", \"CreditHistory\"]]\n",
    "\n",
    "for k in range(1, 8):\n",
    "    knn = KNNClassifier(n_neighbors=k)\n",
    "    knn.fit(X_train_2c, y_train)\n",
    "    y_pred = knn.predict(X_test_2c)\n",
    "    print(\"Accuracy for k = \" + str(k) + \": \" + str(accuracy_score(y_test, y_pred)))"
   ]
  },
  {
   "cell_type": "markdown",
   "id": "e2b1a682",
   "metadata": {},
   "source": [
    "Re-run the KNN algorithm using the features `TotalIncome`, `CreditHistory` and `Married`."
   ]
  },
  {
   "cell_type": "code",
   "execution_count": 38,
   "id": "c0bda7ee",
   "metadata": {
    "ExecuteTime": {
     "end_time": "2023-10-01T20:09:04.735834776Z",
     "start_time": "2023-10-01T20:09:04.212586564Z"
    }
   },
   "outputs": [
    {
     "name": "stdout",
     "output_type": "stream",
     "text": [
      "Accuracy for k = 1: 0.7916666666666666\n",
      "Accuracy for k = 2: 0.6875\n",
      "Accuracy for k = 3: 0.8645833333333334\n",
      "Accuracy for k = 4: 0.7604166666666666\n",
      "Accuracy for k = 5: 0.8020833333333334\n",
      "Accuracy for k = 6: 0.75\n",
      "Accuracy for k = 7: 0.7916666666666666\n"
     ]
    }
   ],
   "source": [
    "# Re-run the KNN algorithm using the features `TotalIncome`, `CreditHistory` and `Married`.\n",
    "X_train_3c = X_train[[\"TotalIncome\", \"CreditHistory\", \"Married\"]]\n",
    "X_test_3c = X_test[[\"TotalIncome\", \"CreditHistory\", \"Married\"]]\n",
    "\n",
    "for k in range(1, 8):\n",
    "    knn = KNNClassifier(n_neighbors=k)\n",
    "    knn.fit(X_train_3c, y_train)\n",
    "    y_pred = knn.predict(X_test_3c)\n",
    "    print(\"Accuracy for k = \" + str(k) + \": \" + str(accuracy_score(y_test, y_pred)))"
   ]
  },
  {
   "cell_type": "markdown",
   "id": "2724167a",
   "metadata": {},
   "source": [
    "Re-run the KNN algorithm using all features."
   ]
  },
  {
   "cell_type": "code",
   "execution_count": 43,
   "id": "46ec9699",
   "metadata": {
    "ExecuteTime": {
     "end_time": "2023-10-01T20:09:51.726317447Z",
     "start_time": "2023-10-01T20:09:51.644383836Z"
    }
   },
   "outputs": [
    {
     "name": "stdout",
     "output_type": "stream",
     "text": [
      "Accuracy for k = 5: 0.8125\n"
     ]
    }
   ],
   "source": [
    "k = 5\n",
    "knn = KNNClassifier(n_neighbors=k)\n",
    "knn.fit(X_train, y_train)\n",
    "y_pred = knn.predict(X_test)\n",
    "print(\"Accuracy for k = \" + str(k) + \": \" + str(accuracy_score(y_test, y_pred)))"
   ]
  },
  {
   "cell_type": "markdown",
   "id": "f1ba8aa8",
   "metadata": {},
   "source": [
    "We choose a number of neighbors of $k=5$ based on the previous results. The evaluation is done using the accuracy metric. It is possible to use other metrics such as the F1-score."
   ]
  }
 ],
 "metadata": {
  "kernelspec": {
   "display_name": "Python 3 (ipykernel)",
   "language": "python",
   "name": "python3"
  },
  "language_info": {
   "codemirror_mode": {
    "name": "ipython",
    "version": 3
   },
   "file_extension": ".py",
   "mimetype": "text/x-python",
   "name": "python",
   "nbconvert_exporter": "python",
   "pygments_lexer": "ipython3",
   "version": "3.10.13"
  }
 },
 "nbformat": 4,
 "nbformat_minor": 5
}
