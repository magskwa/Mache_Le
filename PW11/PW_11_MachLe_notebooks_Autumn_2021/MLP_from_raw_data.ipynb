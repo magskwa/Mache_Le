{
 "cells": [
  {
   "cell_type": "markdown",
   "metadata": {
    "id": "Ic-cqm0tbUc3"
   },
   "source": [
    "# Multilayer Perceptron from raw data\n",
    "This notebook will guide you through the use of the `keras` package to train a multilayer perceptron for handwritten digits classification. You are going to use the `mnist` dataset from LeCun et al. 1998"
   ]
  },
  {
   "cell_type": "markdown",
   "metadata": {
    "id": "ND1Cf9lXbUc6"
   },
   "source": [
    "## Loading the packages"
   ]
  },
  {
   "cell_type": "code",
   "execution_count": 2,
   "metadata": {
    "id": "Pvq0DhLtbUdE"
   },
   "outputs": [
    {
     "name": "stdout",
     "output_type": "stream",
     "text": [
      "WARNING:tensorflow:From c:\\Users\\magal\\anaconda3\\envs\\ml\\lib\\site-packages\\keras\\src\\losses.py:2976: The name tf.losses.sparse_softmax_cross_entropy is deprecated. Please use tf.compat.v1.losses.sparse_softmax_cross_entropy instead.\n",
      "\n"
     ]
    }
   ],
   "source": [
    "import numpy as np\n",
    "from matplotlib import pyplot as pl\n",
    "\n",
    "import tensorflow as tf\n",
    "from tensorflow.keras.datasets import mnist\n",
    "from tensorflow.keras.models import Sequential\n",
    "from tensorflow.keras.layers import Dense, Dropout\n",
    "from tensorflow.keras.optimizers import RMSprop\n",
    "from sklearn import metrics as me\n",
    "\n",
    "%matplotlib inline"
   ]
  },
  {
   "cell_type": "markdown",
   "metadata": {
    "id": "Vy0wRnm2bUde"
   },
   "source": [
    "## Using raw data to train a MLP\n",
    "First load the `mnist` dataset and normalize it to be in the range [0, 1]"
   ]
  },
  {
   "cell_type": "code",
   "execution_count": 3,
   "metadata": {
    "id": "8CKuJwcibUdi"
   },
   "outputs": [
    {
     "name": "stdout",
     "output_type": "stream",
     "text": [
      "50000 train samples\n",
      "10000 validation samples\n",
      "10000 test samples\n"
     ]
    }
   ],
   "source": [
    "(X_train, y_train), (X_test, y_test) = mnist.load_data()\n",
    "\n",
    "# Split the training set into a training set and a validation set\n",
    "X_val = X_train[0:10000,:,:]\n",
    "X_train = X_train[10000:,:,:]\n",
    "y_val = y_train[0:10000]\n",
    "y_train = y_train[10000:]\n",
    "\n",
    "# Reshape the training data tensors so that each image is a vector\n",
    "X_train = X_train.reshape(50000, 784)\n",
    "X_val = X_val.reshape(10000, 784)\n",
    "X_test = X_test.reshape(10000, 784)\n",
    "\n",
    "X_train = X_train.astype('float32')\n",
    "X_val = X_val.astype('float32')\n",
    "X_test = X_test.astype('float32')\n",
    "\n",
    "# Scale the training data so that pixel intensity lies in [0,1]\n",
    "X_train /= 255\n",
    "X_val /= 255\n",
    "X_test /= 255\n",
    "\n",
    "print(X_train.shape[0], 'train samples')\n",
    "print(X_val.shape[0], 'validation samples')\n",
    "print(X_test.shape[0], 'test samples')\n",
    "\n",
    "n_classes = 10\n",
    "# convert class vectors to binary class matrices\n",
    "Y_train = tf.keras.utils.to_categorical(y_train, n_classes)\n",
    "Y_val = tf.keras.utils.to_categorical(y_val, n_classes)\n",
    "Y_test = tf.keras.utils.to_categorical(y_test, n_classes)"
   ]
  },
  {
   "cell_type": "markdown",
   "metadata": {
    "id": "01XwVeDNbUdv"
   },
   "source": [
    "Create the MLP"
   ]
  },
  {
   "cell_type": "code",
   "execution_count": 5,
   "metadata": {
    "id": "DNgzrBJEbUd0"
   },
   "outputs": [
    {
     "name": "stdout",
     "output_type": "stream",
     "text": [
      "WARNING:tensorflow:From c:\\Users\\magal\\anaconda3\\envs\\ml\\lib\\site-packages\\keras\\src\\backend.py:873: The name tf.get_default_graph is deprecated. Please use tf.compat.v1.get_default_graph instead.\n",
      "\n",
      "Model: \"sequential\"\n",
      "_________________________________________________________________\n",
      " Layer (type)                Output Shape              Param #   \n",
      "=================================================================\n",
      " dense (Dense)               (None, 300)               235500    \n",
      "                                                                 \n",
      " dense_1 (Dense)             (None, 10)                3010      \n",
      "                                                                 \n",
      "=================================================================\n",
      "Total params: 238510 (931.68 KB)\n",
      "Trainable params: 238510 (931.68 KB)\n",
      "Non-trainable params: 0 (0.00 Byte)\n",
      "_________________________________________________________________\n"
     ]
    }
   ],
   "source": [
    "model = Sequential()\n",
    "model.add(Dense(300, input_shape=(784,), activation='relu'))\n",
    "#model.add(Dropout(0.5))\n",
    "model.add(Dense(n_classes, activation='softmax'))\n",
    "\n",
    "model.summary()"
   ]
  },
  {
   "cell_type": "markdown",
   "metadata": {
    "id": "Peiq9GR2bUeN"
   },
   "source": [
    "Define some constants and train the MLP. In order to perform the model selection process, you train each model with the train dataset and evaluate it with the validation dataset. The test set remains unseen."
   ]
  },
  {
   "cell_type": "code",
   "execution_count": 11,
   "metadata": {
    "id": "NBt-ReqIbUeR"
   },
   "outputs": [
    {
     "name": "stdout",
     "output_type": "stream",
     "text": [
      "Epoch 1/15\n",
      "391/391 [==============================] - 3s 5ms/step - loss: 0.0136 - accuracy: 0.9966 - val_loss: 0.0819 - val_accuracy: 0.9791\n",
      "Epoch 2/15\n",
      "391/391 [==============================] - 2s 5ms/step - loss: 0.0105 - accuracy: 0.9975 - val_loss: 0.0783 - val_accuracy: 0.9787\n",
      "Epoch 3/15\n",
      "391/391 [==============================] - 2s 5ms/step - loss: 0.0086 - accuracy: 0.9979 - val_loss: 0.0766 - val_accuracy: 0.9795\n",
      "Epoch 4/15\n",
      "391/391 [==============================] - 2s 6ms/step - loss: 0.0065 - accuracy: 0.9987 - val_loss: 0.0841 - val_accuracy: 0.9794\n",
      "Epoch 5/15\n",
      "391/391 [==============================] - 2s 5ms/step - loss: 0.0050 - accuracy: 0.9991 - val_loss: 0.0809 - val_accuracy: 0.9793\n",
      "Epoch 6/15\n",
      "391/391 [==============================] - 3s 6ms/step - loss: 0.0039 - accuracy: 0.9994 - val_loss: 0.0799 - val_accuracy: 0.9814\n",
      "Epoch 7/15\n",
      "391/391 [==============================] - 2s 6ms/step - loss: 0.0030 - accuracy: 0.9996 - val_loss: 0.0795 - val_accuracy: 0.9803\n",
      "Epoch 8/15\n",
      "391/391 [==============================] - 2s 5ms/step - loss: 0.0021 - accuracy: 0.9997 - val_loss: 0.0802 - val_accuracy: 0.9806\n",
      "Epoch 9/15\n",
      "391/391 [==============================] - 2s 5ms/step - loss: 0.0017 - accuracy: 0.9997 - val_loss: 0.0812 - val_accuracy: 0.9815\n",
      "Epoch 10/15\n",
      "391/391 [==============================] - 2s 5ms/step - loss: 0.0012 - accuracy: 0.9999 - val_loss: 0.0855 - val_accuracy: 0.9793\n",
      "Epoch 11/15\n",
      "391/391 [==============================] - 2s 5ms/step - loss: 8.6874e-04 - accuracy: 1.0000 - val_loss: 0.0839 - val_accuracy: 0.9806\n",
      "Epoch 12/15\n",
      "391/391 [==============================] - 2s 5ms/step - loss: 5.9120e-04 - accuracy: 1.0000 - val_loss: 0.0839 - val_accuracy: 0.9816\n",
      "Epoch 13/15\n",
      "391/391 [==============================] - 2s 5ms/step - loss: 4.9124e-04 - accuracy: 1.0000 - val_loss: 0.0858 - val_accuracy: 0.9820\n",
      "Epoch 14/15\n",
      "391/391 [==============================] - 2s 5ms/step - loss: 4.3428e-04 - accuracy: 1.0000 - val_loss: 0.0858 - val_accuracy: 0.9817\n",
      "Epoch 15/15\n",
      "391/391 [==============================] - 2s 5ms/step - loss: 3.7338e-04 - accuracy: 1.0000 - val_loss: 0.0874 - val_accuracy: 0.9810\n"
     ]
    }
   ],
   "source": [
    "batch_size = 128\n",
    "n_epoch = 15\n",
    "\n",
    "model.compile(loss='categorical_crossentropy', optimizer=RMSprop(), metrics=['accuracy'])\n",
    "history = model.fit(X_train, Y_train,\n",
    "                    batch_size=batch_size, epochs=n_epoch,\n",
    "                    verbose=1, validation_data=(X_val, Y_val))"
   ]
  },
  {
   "cell_type": "markdown",
   "metadata": {
    "id": "7u_zpHr5bUeb"
   },
   "source": [
    "Show the performance of the model. By observing the performance of your models on the validation set, you will choose a set of hyperparameters for your final model. The test set is still not used at this point."
   ]
  },
  {
   "cell_type": "code",
   "execution_count": 12,
   "metadata": {
    "id": "PHXi21E1bUef"
   },
   "outputs": [
    {
     "name": "stdout",
     "output_type": "stream",
     "text": [
      "Validation score: 0.08742210268974304\n",
      "Validation accuracy: 0.9810000061988831\n"
     ]
    },
    {
     "data": {
      "image/png": "[encoded data removed]",
      "text/plain": [
       "<Figure size 640x480 with 1 Axes>"
      ]
     },
     "metadata": {},
     "output_type": "display_data"
    }
   ],
   "source": [
    "pl.plot(history.history['loss'], label='Training')\n",
    "pl.plot(history.history['val_loss'], label='Validation')\n",
    "pl.legend()\n",
    "pl.grid()\n",
    "\n",
    "score = model.evaluate(X_val, Y_val, verbose=0)\n",
    "print('Validation score:', score[0])\n",
    "print('Validation accuracy:', score[1])"
   ]
  },
  {
   "cell_type": "markdown",
   "metadata": {
    "id": "rG_CBQQl6Slh"
   },
   "source": [
    "Now that you have chosen your final model, you can finally evaluate its performance using the test set. It is important that the test set remains hidden for your model until this last step in order to have an unbiased estimate of the performance. Therefore, you should not run the following cell until you have chosen your final model."
   ]
  },
  {
   "cell_type": "code",
   "execution_count": 13,
   "metadata": {
    "id": "VK5BBZhr7EZo"
   },
   "outputs": [
    {
     "name": "stdout",
     "output_type": "stream",
     "text": [
      "FINAL RESULTS:\n",
      "Test score: 0.0828145295381546\n",
      "Test accuracy: 0.980400025844574\n"
     ]
    }
   ],
   "source": [
    "final_score = model.evaluate(X_test, Y_test, verbose=0)\n",
    "print('FINAL RESULTS:')\n",
    "print('Test score:', final_score[0])\n",
    "print('Test accuracy:', final_score[1])"
   ]
  },
  {
   "cell_type": "markdown",
   "metadata": {
    "id": "jLuFK6MobUet"
   },
   "source": [
    "Confusion matrix"
   ]
  },
  {
   "cell_type": "code",
   "execution_count": 14,
   "metadata": {
    "id": "PAjwjjrjbUex"
   },
   "outputs": [
    {
     "name": "stdout",
     "output_type": "stream",
     "text": [
      "313/313 [==============================] - 1s 2ms/step\n"
     ]
    },
    {
     "data": {
      "text/plain": [
       "array([[ 974,    1,    1,    0,    1,    0,    0,    1,    1,    1],\n",
       "       [   0, 1125,    3,    1,    0,    1,    2,    1,    2,    0],\n",
       "       [   5,    3, 1002,    6,    2,    0,    3,    6,    5,    0],\n",
       "       [   0,    0,    5,  989,    0,    2,    0,    3,    2,    9],\n",
       "       [   0,    0,    1,    1,  965,    0,    5,    2,    0,    8],\n",
       "       [   2,    0,    0,    7,    1,  870,    5,    1,    4,    2],\n",
       "       [   5,    2,    2,    1,    3,    5,  940,    0,    0,    0],\n",
       "       [   1,    2,    7,    1,    0,    0,    0, 1008,    4,    5],\n",
       "       [   3,    1,    2,    3,    4,    3,    3,    3,  947,    5],\n",
       "       [   1,    2,    0,    4,    9,    2,    1,    3,    3,  984]],\n",
       "      dtype=int64)"
      ]
     },
     "execution_count": 14,
     "metadata": {},
     "output_type": "execute_result"
    }
   ],
   "source": [
    "pred = model.predict(X_test)\n",
    "pred = np.argmax(pred, axis=-1)\n",
    "me.confusion_matrix(y_test, pred)"
   ]
  },
  {
   "cell_type": "code",
   "execution_count": null,
   "metadata": {},
   "outputs": [],
   "source": []
  },
  {
   "cell_type": "code",
   "execution_count": null,
   "metadata": {},
   "outputs": [],
   "source": []
  },
  {
   "cell_type": "code",
   "execution_count": null,
   "metadata": {},
   "outputs": [],
   "source": []
  }
 ],
 "metadata": {
  "accelerator": "GPU",
  "colab": {
   "provenance": []
  },
  "gpuClass": "standard",
  "kernelspec": {
   "display_name": "Python 3 (ipykernel)",
   "language": "python",
   "name": "python3"
  },
  "language_info": {
   "codemirror_mode": {
    "name": "ipython",
    "version": 3
   },
   "file_extension": ".py",
   "mimetype": "text/x-python",
   "name": "python",
   "nbconvert_exporter": "python",
   "pygments_lexer": "ipython3",
   "version": "3.10.13"
  }
 },
 "nbformat": 4,
 "nbformat_minor": 4
}
