{
 "cells": [
  {
   "cell_type": "markdown",
   "metadata": {
    "id": "Ic-cqm0tbUc3"
   },
   "source": [
    "# Multilayer Perceptron from raw data\n",
    "This notebook will guide you through the use of the `keras` package to train a multilayer perceptron for handwritten digits classification. You are going to use the `mnist` dataset from LeCun et al. 1998"
   ]
  },
  {
   "cell_type": "markdown",
   "metadata": {
    "id": "ND1Cf9lXbUc6"
   },
   "source": [
    "## Loading the packages"
   ]
  },
  {
   "cell_type": "code",
   "execution_count": 36,
   "metadata": {
    "id": "Pvq0DhLtbUdE"
   },
   "outputs": [],
   "source": [
    "import numpy as np\n",
    "from matplotlib import pyplot as pl\n",
    "\n",
    "import tensorflow as tf\n",
    "from tensorflow.keras.datasets import mnist\n",
    "from tensorflow.keras.models import Sequential\n",
    "from tensorflow.keras.layers import Dense, Dropout\n",
    "from tensorflow.keras.optimizers import RMSprop\n",
    "from sklearn import metrics as me\n",
    "\n",
    "%matplotlib inline"
   ]
  },
  {
   "cell_type": "markdown",
   "metadata": {
    "id": "Vy0wRnm2bUde"
   },
   "source": [
    "## Using raw data to train a MLP\n",
    "First load the `mnist` dataset and normalize it to be in the range [0, 1]"
   ]
  },
  {
   "cell_type": "code",
   "execution_count": 37,
   "metadata": {
    "id": "8CKuJwcibUdi"
   },
   "outputs": [
    {
     "name": "stdout",
     "output_type": "stream",
     "text": [
      "50000 train samples\n",
      "10000 validation samples\n",
      "10000 test samples\n"
     ]
    }
   ],
   "source": [
    "(X_train, y_train), (X_test, y_test) = mnist.load_data()\n",
    "\n",
    "# Split the training set into a training set and a validation set\n",
    "X_val = X_train[0:10000,:,:]\n",
    "X_train = X_train[10000:,:,:]\n",
    "y_val = y_train[0:10000]\n",
    "y_train = y_train[10000:]\n",
    "\n",
    "# Reshape the training data tensors so that each image is a vector\n",
    "X_train = X_train.reshape(50000, 784)\n",
    "X_val = X_val.reshape(10000, 784)\n",
    "X_test = X_test.reshape(10000, 784)\n",
    "\n",
    "X_train = X_train.astype('float32')\n",
    "X_val = X_val.astype('float32')\n",
    "X_test = X_test.astype('float32')\n",
    "\n",
    "# Scale the training data so that pixel intensity lies in [0,1]\n",
    "X_train /= 255\n",
    "X_val /= 255\n",
    "X_test /= 255\n",
    "\n",
    "print(X_train.shape[0], 'train samples')\n",
    "print(X_val.shape[0], 'validation samples')\n",
    "print(X_test.shape[0], 'test samples')\n",
    "\n",
    "n_classes = 10\n",
    "# convert class vectors to binary class matrices\n",
    "Y_train = tf.keras.utils.to_categorical(y_train, n_classes)\n",
    "Y_val = tf.keras.utils.to_categorical(y_val, n_classes)\n",
    "Y_test = tf.keras.utils.to_categorical(y_test, n_classes)"
   ]
  },
  {
   "cell_type": "markdown",
   "metadata": {
    "id": "01XwVeDNbUdv"
   },
   "source": [
    "Create the MLP"
   ]
  },
  {
   "cell_type": "code",
   "execution_count": 38,
   "metadata": {
    "id": "DNgzrBJEbUd0"
   },
   "outputs": [
    {
     "name": "stdout",
     "output_type": "stream",
     "text": [
      "Model: \"sequential_5\"\n",
      "_________________________________________________________________\n",
      " Layer (type)                Output Shape              Param #   \n",
      "=================================================================\n",
      " dense_13 (Dense)            (None, 100)               78500     \n",
      "                                                                 \n",
      " dense_14 (Dense)            (None, 50)                5050      \n",
      "                                                                 \n",
      " dense_15 (Dense)            (None, 10)                510       \n",
      "                                                                 \n",
      "=================================================================\n",
      "Total params: 84060 (328.36 KB)\n",
      "Trainable params: 84060 (328.36 KB)\n",
      "Non-trainable params: 0 (0.00 Byte)\n",
      "_________________________________________________________________\n"
     ]
    }
   ],
   "source": [
    "model = Sequential()\n",
    "model.add(Dense(100, input_shape=(784,), activation='relu'))\n",
    "model.add(Dense(50, input_shape=(784,), activation='relu'))\n",
    "#model.add(Dropout(0.5))\n",
    "model.add(Dense(n_classes, activation='softmax'))\n",
    "\n",
    "model.summary()"
   ]
  },
  {
   "cell_type": "markdown",
   "metadata": {
    "id": "Peiq9GR2bUeN"
   },
   "source": [
    "Define some constants and train the MLP. In order to perform the model selection process, you train each model with the train dataset and evaluate it with the validation dataset. The test set remains unseen."
   ]
  },
  {
   "cell_type": "code",
   "execution_count": 39,
   "metadata": {
    "id": "NBt-ReqIbUeR"
   },
   "outputs": [
    {
     "name": "stdout",
     "output_type": "stream",
     "text": [
      "Epoch 1/25\n",
      "391/391 [==============================] - 2s 4ms/step - loss: 0.3799 - accuracy: 0.8934 - val_loss: 0.2329 - val_accuracy: 0.9342\n",
      "Epoch 2/25\n",
      "391/391 [==============================] - 2s 5ms/step - loss: 0.1769 - accuracy: 0.9480 - val_loss: 0.1509 - val_accuracy: 0.9563\n",
      "Epoch 3/25\n",
      "391/391 [==============================] - 3s 7ms/step - loss: 0.1246 - accuracy: 0.9626 - val_loss: 0.1246 - val_accuracy: 0.9642\n",
      "Epoch 4/25\n",
      "391/391 [==============================] - 2s 6ms/step - loss: 0.0964 - accuracy: 0.9705 - val_loss: 0.1053 - val_accuracy: 0.9692\n",
      "Epoch 5/25\n",
      "391/391 [==============================] - 2s 5ms/step - loss: 0.0777 - accuracy: 0.9767 - val_loss: 0.1051 - val_accuracy: 0.9672\n",
      "Epoch 6/25\n",
      "391/391 [==============================] - 2s 5ms/step - loss: 0.0643 - accuracy: 0.9800 - val_loss: 0.0960 - val_accuracy: 0.9711\n",
      "Epoch 7/25\n",
      "391/391 [==============================] - 2s 5ms/step - loss: 0.0537 - accuracy: 0.9833 - val_loss: 0.0921 - val_accuracy: 0.9729\n",
      "Epoch 8/25\n",
      "391/391 [==============================] - 2s 5ms/step - loss: 0.0450 - accuracy: 0.9862 - val_loss: 0.0958 - val_accuracy: 0.9724\n",
      "Epoch 9/25\n",
      "391/391 [==============================] - 2s 5ms/step - loss: 0.0383 - accuracy: 0.9880 - val_loss: 0.1063 - val_accuracy: 0.9702\n",
      "Epoch 10/25\n",
      "391/391 [==============================] - 2s 5ms/step - loss: 0.0319 - accuracy: 0.9900 - val_loss: 0.0920 - val_accuracy: 0.9741\n",
      "Epoch 11/25\n",
      "391/391 [==============================] - 2s 5ms/step - loss: 0.0279 - accuracy: 0.9917 - val_loss: 0.0921 - val_accuracy: 0.9753\n",
      "Epoch 12/25\n",
      "391/391 [==============================] - 2s 6ms/step - loss: 0.0230 - accuracy: 0.9928 - val_loss: 0.0931 - val_accuracy: 0.9746\n",
      "Epoch 13/25\n",
      "391/391 [==============================] - 2s 5ms/step - loss: 0.0196 - accuracy: 0.9940 - val_loss: 0.0944 - val_accuracy: 0.9774\n",
      "Epoch 14/25\n",
      "391/391 [==============================] - 2s 5ms/step - loss: 0.0169 - accuracy: 0.9946 - val_loss: 0.1038 - val_accuracy: 0.9740\n",
      "Epoch 15/25\n",
      "391/391 [==============================] - 2s 5ms/step - loss: 0.0133 - accuracy: 0.9961 - val_loss: 0.0968 - val_accuracy: 0.9772\n",
      "Epoch 16/25\n",
      "391/391 [==============================] - 2s 5ms/step - loss: 0.0119 - accuracy: 0.9963 - val_loss: 0.1090 - val_accuracy: 0.9750\n",
      "Epoch 17/25\n",
      "391/391 [==============================] - 2s 5ms/step - loss: 0.0104 - accuracy: 0.9970 - val_loss: 0.1070 - val_accuracy: 0.9762\n",
      "Epoch 18/25\n",
      "391/391 [==============================] - 2s 5ms/step - loss: 0.0091 - accuracy: 0.9974 - val_loss: 0.1210 - val_accuracy: 0.9734\n",
      "Epoch 19/25\n",
      "391/391 [==============================] - 2s 5ms/step - loss: 0.0074 - accuracy: 0.9979 - val_loss: 0.1205 - val_accuracy: 0.9749\n",
      "Epoch 20/25\n",
      "391/391 [==============================] - 2s 6ms/step - loss: 0.0067 - accuracy: 0.9981 - val_loss: 0.1316 - val_accuracy: 0.9728\n",
      "Epoch 21/25\n",
      "391/391 [==============================] - 3s 6ms/step - loss: 0.0060 - accuracy: 0.9982 - val_loss: 0.1233 - val_accuracy: 0.9747\n",
      "Epoch 22/25\n",
      "391/391 [==============================] - 3s 7ms/step - loss: 0.0049 - accuracy: 0.9985 - val_loss: 0.1537 - val_accuracy: 0.9706\n",
      "Epoch 23/25\n",
      "391/391 [==============================] - 2s 6ms/step - loss: 0.0040 - accuracy: 0.9988 - val_loss: 0.1218 - val_accuracy: 0.9756\n",
      "Epoch 24/25\n",
      "391/391 [==============================] - 2s 6ms/step - loss: 0.0034 - accuracy: 0.9990 - val_loss: 0.1215 - val_accuracy: 0.9776\n",
      "Epoch 25/25\n",
      "391/391 [==============================] - 3s 7ms/step - loss: 0.0030 - accuracy: 0.9990 - val_loss: 0.1477 - val_accuracy: 0.9736\n"
     ]
    }
   ],
   "source": [
    "batch_size = 128\n",
    "n_epoch = 25\n",
    "\n",
    "model.compile(loss='categorical_crossentropy', optimizer=RMSprop(), metrics=['accuracy'])\n",
    "history = model.fit(X_train, Y_train,\n",
    "                    batch_size=batch_size, epochs=n_epoch,\n",
    "                    verbose=1, validation_data=(X_val, Y_val))"
   ]
  },
  {
   "cell_type": "markdown",
   "metadata": {
    "id": "7u_zpHr5bUeb"
   },
   "source": [
    "Show the performance of the model. By observing the performance of your models on the validation set, you will choose a set of hyperparameters for your final model. The test set is still not used at this point."
   ]
  },
  {
   "cell_type": "code",
   "execution_count": 40,
   "metadata": {
    "id": "PHXi21E1bUef"
   },
   "outputs": [
    {
     "name": "stdout",
     "output_type": "stream",
     "text": [
      "Validation score: 0.14766369760036469\n",
      "Validation accuracy: 0.9735999703407288\n"
     ]
    },
    {
     "data": {
      "image/png": "[encoded data removed]",
      "text/plain": [
       "<Figure size 640x480 with 1 Axes>"
      ]
     },
     "metadata": {},
     "output_type": "display_data"
    }
   ],
   "source": [
    "pl.plot(history.history['loss'], label='Training')\n",
    "pl.plot(history.history['val_loss'], label='Validation')\n",
    "pl.legend()\n",
    "pl.grid()\n",
    "\n",
    "score = model.evaluate(X_val, Y_val, verbose=0)\n",
    "print('Validation score:', score[0])\n",
    "print('Validation accuracy:', score[1])"
   ]
  },
  {
   "cell_type": "markdown",
   "metadata": {
    "id": "rG_CBQQl6Slh"
   },
   "source": [
    "Now that you have chosen your final model, you can finally evaluate its performance using the test set. It is important that the test set remains hidden for your model until this last step in order to have an unbiased estimate of the performance. Therefore, you should not run the following cell until you have chosen your final model."
   ]
  },
  {
   "cell_type": "code",
   "execution_count": 41,
   "metadata": {
    "id": "VK5BBZhr7EZo"
   },
   "outputs": [
    {
     "name": "stdout",
     "output_type": "stream",
     "text": [
      "FINAL RESULTS:\n",
      "Test score: 0.1358925849199295\n",
      "Test accuracy: 0.9757000207901001\n"
     ]
    }
   ],
   "source": [
    "final_score = model.evaluate(X_test, Y_test, verbose=0)\n",
    "print('FINAL RESULTS:')\n",
    "print('Test score:', final_score[0])\n",
    "print('Test accuracy:', final_score[1])"
   ]
  },
  {
   "cell_type": "markdown",
   "metadata": {
    "id": "jLuFK6MobUet"
   },
   "source": [
    "Confusion matrix"
   ]
  },
  {
   "cell_type": "code",
   "execution_count": 42,
   "metadata": {
    "id": "PAjwjjrjbUex"
   },
   "outputs": [
    {
     "name": "stdout",
     "output_type": "stream",
     "text": [
      "313/313 [==============================] - 1s 2ms/step\n"
     ]
    },
    {
     "data": {
      "text/plain": [
       "array([[ 972,    0,    0,    1,    0,    2,    2,    2,    1,    0],\n",
       "       [   0, 1121,    2,    2,    0,    2,    2,    2,    4,    0],\n",
       "       [   6,    3, 1007,    0,    2,    0,    3,    6,    4,    1],\n",
       "       [   0,    0,    9,  968,    0,   14,    1,    7,    2,    9],\n",
       "       [   2,    0,    6,    0,  952,    0,    3,    7,    0,   12],\n",
       "       [   2,    0,    0,    2,    1,  872,    6,    3,    4,    2],\n",
       "       [   7,    3,    2,    0,    6,    7,  930,    3,    0,    0],\n",
       "       [   0,    4,    7,    0,    2,    0,    0, 1007,    1,    7],\n",
       "       [   8,    1,    5,    0,    5,    4,    1,    4,  941,    5],\n",
       "       [   2,    2,    0,    1,    6,    2,    0,    7,    2,  987]])"
      ]
     },
     "execution_count": 42,
     "metadata": {},
     "output_type": "execute_result"
    }
   ],
   "source": [
    "pred = model.predict(X_test)\n",
    "pred = np.argmax(pred, axis=-1)\n",
    "me.confusion_matrix(y_test, pred)"
   ]
  }
 ],
 "metadata": {
  "accelerator": "GPU",
  "colab": {
   "provenance": []
  },
  "gpuClass": "standard",
  "kernelspec": {
   "display_name": "Python 3 (ipykernel)",
   "language": "python",
   "name": "python3"
  },
  "language_info": {
   "codemirror_mode": {
    "name": "ipython",
    "version": 3
   },
   "file_extension": ".py",
   "mimetype": "text/x-python",
   "name": "python",
   "nbconvert_exporter": "python",
   "pygments_lexer": "ipython3",
   "version": "3.11.6"
  }
 },
 "nbformat": 4,
 "nbformat_minor": 4
}
