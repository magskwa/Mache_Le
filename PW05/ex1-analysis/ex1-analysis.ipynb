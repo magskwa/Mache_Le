{
 "cells": [
  {
   "cell_type": "markdown",
   "id": "33b31583",
   "metadata": {},
   "source": [
    "# Exercise 1 - Analysis"
   ]
  },
  {
   "cell_type": "markdown",
   "id": "51225f27",
   "metadata": {},
   "source": [
    "The bank UBS is offering to its client the possibility to invest money in funds. See https://fundgate.ubs.com/. There are thousands of investment funds available. Clients, according to their profile, will be more or less inclined to invest in a given fund, according to the fund characteristics. For example, a younger client with no child is potentially more interested into funds composed with stocks, showing higher risks but also higher potential returns. A family father will be more inclined to invest into low-risk funds. UBS want to build a system taking as input a set of values characterizing the fund and a set of values defining the client profile.\n",
    "\n",
    "An investment fund can be characterized by the following elements: \n",
    "\n",
    "- The name of the fund.\n",
    "- The current value of 1 share in the fund, expressed in CHF.\n",
    "- The proportion of stock and bonds composing the fund (2 values in percentage).\n",
    "- A vector of float values with the 5 last yearly returns over years from 2015 to 2019 (5 values expressed in percentage).\n",
    "- A level of risk expressed with A, B, C, D, E with A representing the highest risk and E representing the lowest risk level.\n",
    "- A sectorial information such as technology, pharmaceutical, financial. There are 24 different sectors available in UBS funds.\n",
    "\n",
    "A client profile contains the following information: \n",
    "\n",
    "- First name and last name of the client.\n",
    "- The mother tongue of the client (mostly de, fr, it and en but other languages are present).\n",
    "- The age of the client.\n",
    "- The number of children of the client.\n",
    "- The current wealth of the client that could be used to buy funds, expressed in CHF (total of cash available in the different accounts, not yet invested in funds).\n",
    "- The postal code of the address of the client.\n",
    "- A level of acceptance to risk expressed with A, B, C, D, E with A representing the highest level of acceptance of risk and E representing the lowest acceptance of risk.\n",
    "\n",
    "Answer the following questions:\n",
    "\n",
    "1. For each available information in the fund and client profile, explain how you would prepare the data: encoding, normalization, outlier treatment, etc.\n",
    "2. How could you collect targets (output of the system) to train the system? How would you prepare the different sets?\n",
    "\n",
    "**Be as comprehensive as possible.** Imagine that you give your analysis to your trainee: he must be able to implement the system from it."
   ]
  },
  {
   "cell_type": "markdown",
   "id": "7cb6b792",
   "metadata": {},
   "source": [
    "---"
   ]
  },
  {
   "cell_type": "markdown",
   "id": "16f4c4b4",
   "metadata": {},
   "source": [
    "**For each available information in the fund and client profile, explain how you would prepare the data: encoding, normalization, outlier treatment, etc.**"
   ]
  },
  {
   "cell_type": "markdown",
   "id": "e1527821",
   "metadata": {},
   "source": [
    "|Data type|Processing|\n",
    "|----------|------------|\n",
    "|Fund name|Irrelevant, can be ignored|\n",
    "|Fund value|Encode as float, normalize using Z-norm|\n",
    "|Stocks/bond ratio|Only keep the first value, as the second can be infered and does not add any information. Encode as float, normalize with min-max scaling|\n",
    "|Last yearly returns|Separate all five values as five distinct inputs. For each, encode as float, normlize with Z-norm|\n",
    "|Risk|Encode classes (A, B, C, D, E) using one-hot encoding|\n",
    "|Sector|Encode all 24 classes using one-hot encoding|\n",
    "|First/last name|Irrelevant, can be ignored|\n",
    "|Mother tongue|Encode classes (de, fr, it, en, other) using one-hot encoding|\n",
    "|Client's age|Assuming not many outliers, encode as float, normalize with min-max scaling|\n",
    "|Number of children|Encode as a float and, because of switzerland's low fertility rate, normalize with log scaling|\n",
    "|Current wealth|Encode as a float, normalize with Z-norm|\n",
    "|Postal code|Probably irrelevant, but can be done by encoding all NPAs using one-hot encoding|\n",
    "|Risk acceptance|Encode classes (A, B, C, D, E) using one-hot encoding|\n"
   ]
  },
  {
   "cell_type": "markdown",
   "id": "c386d8fc",
   "metadata": {},
   "source": [
    "**How could you collect targets (output of the system) to train the system? How would you prepare the different sets?**"
   ]
  },
  {
   "cell_type": "markdown",
   "id": "0ec9e135",
   "metadata": {},
   "source": [
    "For a given fund and client, the system returns the likelyhood that this client would buy this fund. Training the system requires that we come up with values that express this likelyhood. Lets assume that tUBS comes up with a training set that contains a set of people and the funds they are currently investing in. One thing we could do is:\n",
    "\n",
    "- Define typical profiles (such as a young adult without family, a family father with children, etc...)\n",
    "- Group people in the training set by the profile that matches them best\n",
    "- For each group, compute empirically the probability that this group invests in fund X (say we have 10 people in our family father group, and 8 of them bought fund X, then fund X has a probability of 0.8 for this group)\n",
    "- Train the model over the set of all funds and people. The ground truth to use is the probability that a given person's group buys the given stock."
   ]
  },
  {
   "cell_type": "markdown",
   "id": "aaa63cb2",
   "metadata": {},
   "source": []
  }
 ],
 "metadata": {
  "kernelspec": {
   "display_name": "Python 3 (ipykernel)",
   "language": "python",
   "name": "python3"
  },
  "language_info": {
   "codemirror_mode": {
    "name": "ipython",
    "version": 3
   },
   "file_extension": ".py",
   "mimetype": "text/x-python",
   "name": "python",
   "nbconvert_exporter": "python",
   "pygments_lexer": "ipython3",
   "version": "3.12.0"
  }
 },
 "nbformat": 4,
 "nbformat_minor": 5
}
